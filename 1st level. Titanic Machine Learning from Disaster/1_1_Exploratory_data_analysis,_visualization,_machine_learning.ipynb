{
  "nbformat": 4,
  "nbformat_minor": 0,
  "metadata": {
    "colab": {
      "name": "1-1 Exploratory data analysis, visualization, machine learning",
      "provenance": [],
      "authorship_tag": "ABX9TyNyQfhleUtXGsasLkPFDiP2",
      "include_colab_link": true
    },
    "kernelspec": {
      "name": "python3",
      "display_name": "Python 3"
    },
    "language_info": {
      "name": "python"
    }
  },
  "cells": [
    {
      "cell_type": "markdown",
      "metadata": {
        "id": "view-in-github",
        "colab_type": "text"
      },
      "source": [
        "<a href=\"https://colab.research.google.com/github/DOINYNAM/Kaggle_practice/blob/main/1_1_Exploratory_data_analysis%2C_visualization%2C_machine_learning.ipynb\" target=\"_parent\"><img src=\"https://colab.research.google.com/assets/colab-badge.svg\" alt=\"Open In Colab\"/></a>"
      ]
    },
    {
      "cell_type": "markdown",
      "metadata": {
        "id": "Yg69AY2GQWKN"
      },
      "source": [
        "### 1st-1 Exploratory data analysis, visualization, machine learning"
      ]
    },
    {
      "cell_type": "code",
      "metadata": {
        "id": "1V4-bMJ6QfFv"
      },
      "source": [
        ""
      ],
      "execution_count": null,
      "outputs": []
    }
  ]
}
